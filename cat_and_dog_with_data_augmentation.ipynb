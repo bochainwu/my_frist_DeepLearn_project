{
  "nbformat": 4,
  "nbformat_minor": 0,
  "metadata": {
    "kernelspec": {
      "display_name": "Python 3",
      "language": "python",
      "name": "python3"
    },
    "language_info": {
      "codemirror_mode": {
        "name": "ipython",
        "version": 3
      },
      "file_extension": ".py",
      "mimetype": "text/x-python",
      "name": "python",
      "nbconvert_exporter": "python",
      "pygments_lexer": "ipython3",
      "version": "3.8.3"
    },
    "colab": {
      "name": "cat_and_dog_with_data augmentation.ipynb",
      "provenance": []
    },
    "accelerator": "GPU"
  },
  "cells": [
    {
      "cell_type": "markdown",
      "metadata": {
        "id": "PmOzVmkz56j6"
      },
      "source": [
        "## import packages"
      ]
    },
    {
      "cell_type": "code",
      "metadata": {
        "id": "v9bqyuFi56j7"
      },
      "source": [
        "import tensorflow as tf\n",
        "from tensorflow.keras.preprocessing.image import ImageDataGenerator\n",
        "import os\n",
        "import numpy as np\n",
        "import matplotlib.pyplot as plt"
      ],
      "execution_count": 1,
      "outputs": []
    },
    {
      "cell_type": "markdown",
      "metadata": {
        "id": "ICUEtb3U56j8"
      },
      "source": [
        "## downland data "
      ]
    },
    {
      "cell_type": "code",
      "metadata": {
        "colab": {
          "base_uri": "https://localhost:8080/"
        },
        "id": "i56Q5T5O56j8",
        "outputId": "d8bddb69-3f67-4d11-b0bd-6cc108151d2b"
      },
      "source": [
        "_URL = 'https://storage.googleapis.com/mledu-datasets/cats_and_dogs_filtered.zip'\n",
        "\n",
        "zip_dir = tf.keras.utils.get_file('cats_and_dogs_filterted.zip', origin=_URL, extract=True)\n",
        "base_dir = os.path.join(os.path.dirname(zip_dir), 'cats_and_dogs_filtered')\n",
        "train_dir = os.path.join(base_dir, 'train')\n",
        "validation_dir = os.path.join(base_dir, 'validation')\n",
        "train_cats_dir = os.path.join(train_dir, 'cats')  \n",
        "train_dogs_dir = os.path.join(train_dir, 'dogs')  \n",
        "validation_cats_dir = os.path.join(validation_dir, 'cats')  \n",
        "validation_dogs_dir = os.path.join(validation_dir, 'dogs')"
      ],
      "execution_count": 2,
      "outputs": [
        {
          "output_type": "stream",
          "text": [
            "Downloading data from https://storage.googleapis.com/mledu-datasets/cats_and_dogs_filtered.zip\n",
            "68608000/68606236 [==============================] - 0s 0us/step\n"
          ],
          "name": "stdout"
        }
      ]
    },
    {
      "cell_type": "code",
      "metadata": {
        "colab": {
          "base_uri": "https://localhost:8080/"
        },
        "id": "GWGh-9DF56j8",
        "outputId": "5fa5903b-3ea3-4aa7-b694-788063165edb"
      },
      "source": [
        "num_cats_tr = len(os.listdir(train_cats_dir))\n",
        "num_dogs_tr = len(os.listdir(train_dogs_dir))\n",
        "num_cats_val = len(os.listdir(validation_cats_dir))\n",
        "num_dogs_val = len(os.listdir(validation_dogs_dir))\n",
        "\n",
        "total_train = num_cats_tr + num_dogs_tr\n",
        "total_val = num_cats_val + num_dogs_val\n",
        "\n",
        "print('total training cat images:', num_cats_tr)\n",
        "print('total training dog images:', num_dogs_tr)\n",
        "print('total validation cat images:', num_cats_val)\n",
        "print('total validation dog images:', num_dogs_val)\n",
        "print(\"Total training images:\", total_train)\n",
        "print(\"Total validation images:\", total_val)"
      ],
      "execution_count": 3,
      "outputs": [
        {
          "output_type": "stream",
          "text": [
            "total training cat images: 1000\n",
            "total training dog images: 1000\n",
            "total validation cat images: 500\n",
            "total validation dog images: 500\n",
            "Total training images: 2000\n",
            "Total validation images: 1000\n"
          ],
          "name": "stdout"
        }
      ]
    },
    {
      "cell_type": "markdown",
      "metadata": {
        "id": "jG4KyY3-56j9"
      },
      "source": [
        "## data generator and data augmentation"
      ]
    },
    {
      "cell_type": "code",
      "metadata": {
        "colab": {
          "base_uri": "https://localhost:8080/"
        },
        "id": "IUy8gVxv56j9",
        "outputId": "60766596-6703-44e6-9e81-0531b358121b"
      },
      "source": [
        "train_image_generator = ImageDataGenerator(rescale=1./255,\n",
        "                                            rotation_range = 40,\n",
        "                                            width_shift_range = 0.2,\n",
        "                                            height_shift_range = 0.2,\n",
        "                                            shear_range = 0.2,\n",
        "                                            zoom_range = 0.2,\n",
        "                                            horizontal_flip = True,)  \n",
        "train_data_gen = train_image_generator.flow_from_directory(batch_size = 100,\n",
        "                                                           directory = train_dir,\n",
        "                                                           target_size = (150,150), \n",
        "                                                           class_mode='binary')"
      ],
      "execution_count": 4,
      "outputs": [
        {
          "output_type": "stream",
          "text": [
            "Found 2000 images belonging to 2 classes.\n"
          ],
          "name": "stdout"
        }
      ]
    },
    {
      "cell_type": "code",
      "metadata": {
        "colab": {
          "base_uri": "https://localhost:8080/"
        },
        "id": "VW_pOWUo56j9",
        "outputId": "4f15fc1d-45e9-435b-92a0-9b4662073454"
      },
      "source": [
        "validation_image_generator = ImageDataGenerator(rescale=1./255)\n",
        "val_data_gen = validation_image_generator.flow_from_directory(batch_size = 100,\n",
        "                                                              directory = validation_dir,\n",
        "                                                              target_size = (150,150), \n",
        "                                                              class_mode = 'binary')"
      ],
      "execution_count": 5,
      "outputs": [
        {
          "output_type": "stream",
          "text": [
            "Found 1000 images belonging to 2 classes.\n"
          ],
          "name": "stdout"
        }
      ]
    },
    {
      "cell_type": "markdown",
      "metadata": {
        "id": "Qj2tSbP_56j-"
      },
      "source": [
        "## my model"
      ]
    },
    {
      "cell_type": "code",
      "metadata": {
        "colab": {
          "base_uri": "https://localhost:8080/"
        },
        "id": "Z_lLn6zY56j-",
        "outputId": "d0e96278-3b91-4fc2-fd7d-4e17fe1ec175"
      },
      "source": [
        "from keras import layers, models\n",
        "CD = models.Sequential()\n",
        "CD.add(layers.Conv2D(32, (3,3), activation='relu', input_shape=(150, 150, 3)))\n",
        "CD.add(layers.MaxPooling2D(2,2))\n",
        "\n",
        "CD.add(layers.Conv2D(64, (3,3), activation='relu'))\n",
        "CD.add(layers.Conv2D(64, (3,3), activation='relu'))\n",
        "CD.add(layers.MaxPooling2D(2,2))\n",
        "\n",
        "CD.add(layers.Conv2D(128, (3,3), activation = 'relu'))\n",
        "CD.add(layers.Conv2D(128, (3,3), activation = 'relu'))\n",
        "CD.add(layers.MaxPooling2D(2,2))\n",
        "\n",
        "CD.add(layers.Conv2D(128, (3,3), activation = 'relu'))\n",
        "CD.add(layers.Conv2D(128, (3,3), activation = 'relu'))\n",
        "CD.add(layers.MaxPooling2D(2,2))\n",
        "\n",
        "CD.add(layers.Flatten())\n",
        "\n",
        "CD.add(layers.Dense(512, activation = 'relu'))\n",
        "CD.add(layers.Dense(1, activation = 'sigmoid'))\n",
        "\n",
        "CD.compile(optimizer='rmsprop',\n",
        "              loss='binary_crossentropy',\n",
        "              metrics=['accuracy'])\n",
        "\n",
        "CD.summary()"
      ],
      "execution_count": 6,
      "outputs": [
        {
          "output_type": "stream",
          "text": [
            "Model: \"sequential\"\n",
            "_________________________________________________________________\n",
            "Layer (type)                 Output Shape              Param #   \n",
            "=================================================================\n",
            "conv2d (Conv2D)              (None, 148, 148, 32)      896       \n",
            "_________________________________________________________________\n",
            "max_pooling2d (MaxPooling2D) (None, 74, 74, 32)        0         \n",
            "_________________________________________________________________\n",
            "conv2d_1 (Conv2D)            (None, 72, 72, 64)        18496     \n",
            "_________________________________________________________________\n",
            "conv2d_2 (Conv2D)            (None, 70, 70, 64)        36928     \n",
            "_________________________________________________________________\n",
            "max_pooling2d_1 (MaxPooling2 (None, 35, 35, 64)        0         \n",
            "_________________________________________________________________\n",
            "conv2d_3 (Conv2D)            (None, 33, 33, 128)       73856     \n",
            "_________________________________________________________________\n",
            "conv2d_4 (Conv2D)            (None, 31, 31, 128)       147584    \n",
            "_________________________________________________________________\n",
            "max_pooling2d_2 (MaxPooling2 (None, 15, 15, 128)       0         \n",
            "_________________________________________________________________\n",
            "conv2d_5 (Conv2D)            (None, 13, 13, 128)       147584    \n",
            "_________________________________________________________________\n",
            "conv2d_6 (Conv2D)            (None, 11, 11, 128)       147584    \n",
            "_________________________________________________________________\n",
            "max_pooling2d_3 (MaxPooling2 (None, 5, 5, 128)         0         \n",
            "_________________________________________________________________\n",
            "flatten (Flatten)            (None, 3200)              0         \n",
            "_________________________________________________________________\n",
            "dense (Dense)                (None, 512)               1638912   \n",
            "_________________________________________________________________\n",
            "dense_1 (Dense)              (None, 1)                 513       \n",
            "=================================================================\n",
            "Total params: 2,212,353\n",
            "Trainable params: 2,212,353\n",
            "Non-trainable params: 0\n",
            "_________________________________________________________________\n"
          ],
          "name": "stdout"
        }
      ]
    },
    {
      "cell_type": "markdown",
      "metadata": {
        "id": "08gFRuq056j-"
      },
      "source": [
        "## model training"
      ]
    },
    {
      "cell_type": "code",
      "metadata": {
        "colab": {
          "base_uri": "https://localhost:8080/"
        },
        "id": "QxEAG4sP56j_",
        "outputId": "ac52c090-eac5-4079-9a80-c785a21a1000"
      },
      "source": [
        "EPOCHS = 100\n",
        "BATCH_SIZE = 100\n",
        "history = CD.fit_generator(\n",
        "    train_data_gen,\n",
        "    steps_per_epoch=int(np.ceil(total_train / float(BATCH_SIZE))),\n",
        "    epochs=EPOCHS,\n",
        "    validation_data=val_data_gen,\n",
        "    validation_steps=int(np.ceil(total_val / float(BATCH_SIZE)))\n",
        ")"
      ],
      "execution_count": 7,
      "outputs": [
        {
          "output_type": "stream",
          "text": [
            "/usr/local/lib/python3.6/dist-packages/tensorflow/python/keras/engine/training.py:1844: UserWarning: `Model.fit_generator` is deprecated and will be removed in a future version. Please use `Model.fit`, which supports generators.\n",
            "  warnings.warn('`Model.fit_generator` is deprecated and '\n"
          ],
          "name": "stderr"
        },
        {
          "output_type": "stream",
          "text": [
            "Epoch 1/100\n",
            "20/20 [==============================] - 24s 813ms/step - loss: 1.0479 - accuracy: 0.5144 - val_loss: 0.6929 - val_accuracy: 0.5000\n",
            "Epoch 2/100\n",
            "20/20 [==============================] - 16s 807ms/step - loss: 0.6940 - accuracy: 0.4920 - val_loss: 0.6924 - val_accuracy: 0.4990\n",
            "Epoch 3/100\n",
            "20/20 [==============================] - 16s 808ms/step - loss: 0.6980 - accuracy: 0.5136 - val_loss: 0.6931 - val_accuracy: 0.5000\n",
            "Epoch 4/100\n",
            "20/20 [==============================] - 16s 811ms/step - loss: 0.6938 - accuracy: 0.5197 - val_loss: 0.6923 - val_accuracy: 0.5080\n",
            "Epoch 5/100\n",
            "20/20 [==============================] - 16s 807ms/step - loss: 0.6933 - accuracy: 0.5191 - val_loss: 0.6903 - val_accuracy: 0.5000\n",
            "Epoch 6/100\n",
            "20/20 [==============================] - 16s 819ms/step - loss: 1.2232 - accuracy: 0.5160 - val_loss: 0.6882 - val_accuracy: 0.5360\n",
            "Epoch 7/100\n",
            "20/20 [==============================] - 16s 801ms/step - loss: 0.6872 - accuracy: 0.5668 - val_loss: 0.6860 - val_accuracy: 0.5540\n",
            "Epoch 8/100\n",
            "20/20 [==============================] - 16s 799ms/step - loss: 0.6876 - accuracy: 0.5234 - val_loss: 0.6901 - val_accuracy: 0.5190\n",
            "Epoch 9/100\n",
            "20/20 [==============================] - 16s 806ms/step - loss: 0.6906 - accuracy: 0.5122 - val_loss: 0.6903 - val_accuracy: 0.5140\n",
            "Epoch 10/100\n",
            "20/20 [==============================] - 16s 808ms/step - loss: 0.6910 - accuracy: 0.5362 - val_loss: 0.6929 - val_accuracy: 0.5090\n",
            "Epoch 11/100\n",
            "20/20 [==============================] - 16s 807ms/step - loss: 0.7055 - accuracy: 0.4967 - val_loss: 0.6813 - val_accuracy: 0.5890\n",
            "Epoch 12/100\n",
            "20/20 [==============================] - 16s 813ms/step - loss: 0.6901 - accuracy: 0.5472 - val_loss: 0.6808 - val_accuracy: 0.5620\n",
            "Epoch 13/100\n",
            "20/20 [==============================] - 16s 807ms/step - loss: 0.7286 - accuracy: 0.5666 - val_loss: 0.6870 - val_accuracy: 0.5310\n",
            "Epoch 14/100\n",
            "20/20 [==============================] - 16s 811ms/step - loss: 0.6861 - accuracy: 0.5358 - val_loss: 0.6830 - val_accuracy: 0.5590\n",
            "Epoch 15/100\n",
            "20/20 [==============================] - 16s 809ms/step - loss: 0.6837 - accuracy: 0.5556 - val_loss: 0.6749 - val_accuracy: 0.5760\n",
            "Epoch 16/100\n",
            "20/20 [==============================] - 16s 809ms/step - loss: 0.6931 - accuracy: 0.5489 - val_loss: 0.6771 - val_accuracy: 0.5790\n",
            "Epoch 17/100\n",
            "20/20 [==============================] - 17s 832ms/step - loss: 0.6730 - accuracy: 0.5852 - val_loss: 0.6414 - val_accuracy: 0.6500\n",
            "Epoch 18/100\n",
            "20/20 [==============================] - 16s 816ms/step - loss: 0.7032 - accuracy: 0.5812 - val_loss: 0.6769 - val_accuracy: 0.5890\n",
            "Epoch 19/100\n",
            "20/20 [==============================] - 16s 820ms/step - loss: 0.6730 - accuracy: 0.5770 - val_loss: 0.6791 - val_accuracy: 0.5560\n",
            "Epoch 20/100\n",
            "20/20 [==============================] - 16s 813ms/step - loss: 0.6807 - accuracy: 0.5537 - val_loss: 0.6305 - val_accuracy: 0.6260\n",
            "Epoch 21/100\n",
            "20/20 [==============================] - 16s 812ms/step - loss: 0.6853 - accuracy: 0.6166 - val_loss: 0.6752 - val_accuracy: 0.6170\n",
            "Epoch 22/100\n",
            "20/20 [==============================] - 16s 808ms/step - loss: 0.6668 - accuracy: 0.6182 - val_loss: 0.6277 - val_accuracy: 0.6770\n",
            "Epoch 23/100\n",
            "20/20 [==============================] - 16s 805ms/step - loss: 0.6294 - accuracy: 0.6604 - val_loss: 0.6064 - val_accuracy: 0.6850\n",
            "Epoch 24/100\n",
            "20/20 [==============================] - 16s 812ms/step - loss: 0.6405 - accuracy: 0.6327 - val_loss: 0.6306 - val_accuracy: 0.6220\n",
            "Epoch 25/100\n",
            "20/20 [==============================] - 16s 818ms/step - loss: 0.6383 - accuracy: 0.6428 - val_loss: 0.6650 - val_accuracy: 0.5720\n",
            "Epoch 26/100\n",
            "20/20 [==============================] - 16s 805ms/step - loss: 0.6369 - accuracy: 0.6367 - val_loss: 0.6104 - val_accuracy: 0.6380\n",
            "Epoch 27/100\n",
            "20/20 [==============================] - 16s 802ms/step - loss: 0.6386 - accuracy: 0.6443 - val_loss: 0.6127 - val_accuracy: 0.7000\n",
            "Epoch 28/100\n",
            "20/20 [==============================] - 16s 808ms/step - loss: 0.6228 - accuracy: 0.6611 - val_loss: 0.6514 - val_accuracy: 0.5880\n",
            "Epoch 29/100\n",
            "20/20 [==============================] - 16s 811ms/step - loss: 0.6415 - accuracy: 0.6096 - val_loss: 0.6110 - val_accuracy: 0.6340\n",
            "Epoch 30/100\n",
            "20/20 [==============================] - 16s 810ms/step - loss: 0.6462 - accuracy: 0.6308 - val_loss: 0.6971 - val_accuracy: 0.6630\n",
            "Epoch 31/100\n",
            "20/20 [==============================] - 16s 813ms/step - loss: 0.6134 - accuracy: 0.6691 - val_loss: 0.8882 - val_accuracy: 0.5140\n",
            "Epoch 32/100\n",
            "20/20 [==============================] - 16s 812ms/step - loss: 0.6449 - accuracy: 0.6536 - val_loss: 0.6006 - val_accuracy: 0.6770\n",
            "Epoch 33/100\n",
            "20/20 [==============================] - 16s 810ms/step - loss: 0.6461 - accuracy: 0.6420 - val_loss: 0.6569 - val_accuracy: 0.6240\n",
            "Epoch 34/100\n",
            "20/20 [==============================] - 16s 812ms/step - loss: 0.6022 - accuracy: 0.6754 - val_loss: 0.5695 - val_accuracy: 0.6900\n",
            "Epoch 35/100\n",
            "20/20 [==============================] - 16s 806ms/step - loss: 0.6012 - accuracy: 0.6638 - val_loss: 0.5894 - val_accuracy: 0.6730\n",
            "Epoch 36/100\n",
            "20/20 [==============================] - 16s 808ms/step - loss: 0.7007 - accuracy: 0.6513 - val_loss: 0.5651 - val_accuracy: 0.7370\n",
            "Epoch 37/100\n",
            "20/20 [==============================] - 16s 809ms/step - loss: 0.5830 - accuracy: 0.6893 - val_loss: 0.5729 - val_accuracy: 0.7270\n",
            "Epoch 38/100\n",
            "20/20 [==============================] - 16s 809ms/step - loss: 0.5988 - accuracy: 0.6825 - val_loss: 0.6294 - val_accuracy: 0.6440\n",
            "Epoch 39/100\n",
            "20/20 [==============================] - 16s 810ms/step - loss: 0.6023 - accuracy: 0.6729 - val_loss: 0.6279 - val_accuracy: 0.6420\n",
            "Epoch 40/100\n",
            "20/20 [==============================] - 16s 811ms/step - loss: 0.6072 - accuracy: 0.6719 - val_loss: 0.5593 - val_accuracy: 0.6910\n",
            "Epoch 41/100\n",
            "20/20 [==============================] - 16s 806ms/step - loss: 0.5868 - accuracy: 0.6975 - val_loss: 0.6705 - val_accuracy: 0.6630\n",
            "Epoch 42/100\n",
            "20/20 [==============================] - 16s 805ms/step - loss: 0.5644 - accuracy: 0.7165 - val_loss: 0.5551 - val_accuracy: 0.7290\n",
            "Epoch 43/100\n",
            "20/20 [==============================] - 16s 806ms/step - loss: 0.5903 - accuracy: 0.6869 - val_loss: 0.5544 - val_accuracy: 0.7190\n",
            "Epoch 44/100\n",
            "20/20 [==============================] - 16s 815ms/step - loss: 0.5781 - accuracy: 0.6873 - val_loss: 0.5716 - val_accuracy: 0.6970\n",
            "Epoch 45/100\n",
            "20/20 [==============================] - 16s 813ms/step - loss: 0.5706 - accuracy: 0.6946 - val_loss: 0.5610 - val_accuracy: 0.7310\n",
            "Epoch 46/100\n",
            "20/20 [==============================] - 16s 805ms/step - loss: 0.6039 - accuracy: 0.6849 - val_loss: 0.6074 - val_accuracy: 0.6850\n",
            "Epoch 47/100\n",
            "20/20 [==============================] - 16s 806ms/step - loss: 0.6134 - accuracy: 0.6940 - val_loss: 0.6092 - val_accuracy: 0.6870\n",
            "Epoch 48/100\n",
            "20/20 [==============================] - 16s 806ms/step - loss: 0.5722 - accuracy: 0.7044 - val_loss: 0.6247 - val_accuracy: 0.6680\n",
            "Epoch 49/100\n",
            "20/20 [==============================] - 16s 810ms/step - loss: 0.5587 - accuracy: 0.7224 - val_loss: 0.5288 - val_accuracy: 0.7490\n",
            "Epoch 50/100\n",
            "20/20 [==============================] - 16s 810ms/step - loss: 0.5790 - accuracy: 0.6973 - val_loss: 0.5698 - val_accuracy: 0.7160\n",
            "Epoch 51/100\n",
            "20/20 [==============================] - 16s 806ms/step - loss: 0.5482 - accuracy: 0.7194 - val_loss: 0.5283 - val_accuracy: 0.7400\n",
            "Epoch 52/100\n",
            "20/20 [==============================] - 16s 803ms/step - loss: 0.5665 - accuracy: 0.7132 - val_loss: 0.5255 - val_accuracy: 0.7270\n",
            "Epoch 53/100\n",
            "20/20 [==============================] - 16s 804ms/step - loss: 0.5683 - accuracy: 0.7175 - val_loss: 0.5485 - val_accuracy: 0.7380\n",
            "Epoch 54/100\n",
            "20/20 [==============================] - 16s 811ms/step - loss: 0.5416 - accuracy: 0.7465 - val_loss: 0.5725 - val_accuracy: 0.7120\n",
            "Epoch 55/100\n",
            "20/20 [==============================] - 16s 806ms/step - loss: 0.5392 - accuracy: 0.7532 - val_loss: 0.5425 - val_accuracy: 0.7280\n",
            "Epoch 56/100\n",
            "20/20 [==============================] - 16s 807ms/step - loss: 0.5542 - accuracy: 0.7161 - val_loss: 0.4983 - val_accuracy: 0.7560\n",
            "Epoch 57/100\n",
            "20/20 [==============================] - 16s 805ms/step - loss: 0.5453 - accuracy: 0.7354 - val_loss: 0.5216 - val_accuracy: 0.7450\n",
            "Epoch 58/100\n",
            "20/20 [==============================] - 16s 807ms/step - loss: 0.5531 - accuracy: 0.7305 - val_loss: 0.5875 - val_accuracy: 0.6960\n",
            "Epoch 59/100\n",
            "20/20 [==============================] - 16s 814ms/step - loss: 0.5637 - accuracy: 0.7173 - val_loss: 0.5118 - val_accuracy: 0.7690\n",
            "Epoch 60/100\n",
            "20/20 [==============================] - 16s 804ms/step - loss: 0.5190 - accuracy: 0.7541 - val_loss: 0.4879 - val_accuracy: 0.7730\n",
            "Epoch 61/100\n",
            "20/20 [==============================] - 16s 807ms/step - loss: 0.5367 - accuracy: 0.7401 - val_loss: 0.5380 - val_accuracy: 0.7280\n",
            "Epoch 62/100\n",
            "20/20 [==============================] - 16s 804ms/step - loss: 0.5289 - accuracy: 0.7363 - val_loss: 0.5466 - val_accuracy: 0.7320\n",
            "Epoch 63/100\n",
            "20/20 [==============================] - 16s 810ms/step - loss: 0.5202 - accuracy: 0.7426 - val_loss: 0.5029 - val_accuracy: 0.7750\n",
            "Epoch 64/100\n",
            "20/20 [==============================] - 16s 819ms/step - loss: 0.5012 - accuracy: 0.7627 - val_loss: 0.5479 - val_accuracy: 0.7340\n",
            "Epoch 65/100\n",
            "20/20 [==============================] - 16s 803ms/step - loss: 0.5183 - accuracy: 0.7659 - val_loss: 0.4923 - val_accuracy: 0.7780\n",
            "Epoch 66/100\n",
            "20/20 [==============================] - 16s 805ms/step - loss: 0.4961 - accuracy: 0.7682 - val_loss: 0.5166 - val_accuracy: 0.7480\n",
            "Epoch 67/100\n",
            "20/20 [==============================] - 16s 806ms/step - loss: 0.4672 - accuracy: 0.7742 - val_loss: 0.4788 - val_accuracy: 0.7900\n",
            "Epoch 68/100\n",
            "20/20 [==============================] - 16s 803ms/step - loss: 0.4803 - accuracy: 0.7694 - val_loss: 0.4877 - val_accuracy: 0.7710\n",
            "Epoch 69/100\n",
            "20/20 [==============================] - 16s 812ms/step - loss: 0.4791 - accuracy: 0.7729 - val_loss: 0.7136 - val_accuracy: 0.6740\n",
            "Epoch 70/100\n",
            "20/20 [==============================] - 16s 803ms/step - loss: 0.5383 - accuracy: 0.7522 - val_loss: 0.7895 - val_accuracy: 0.6770\n",
            "Epoch 71/100\n",
            "20/20 [==============================] - 16s 802ms/step - loss: 0.5064 - accuracy: 0.7540 - val_loss: 0.4513 - val_accuracy: 0.7960\n",
            "Epoch 72/100\n",
            "20/20 [==============================] - 16s 803ms/step - loss: 0.4692 - accuracy: 0.7849 - val_loss: 0.4590 - val_accuracy: 0.7920\n",
            "Epoch 73/100\n",
            "20/20 [==============================] - 16s 807ms/step - loss: 0.4926 - accuracy: 0.7771 - val_loss: 0.5212 - val_accuracy: 0.7390\n",
            "Epoch 74/100\n",
            "20/20 [==============================] - 16s 811ms/step - loss: 0.4694 - accuracy: 0.7894 - val_loss: 0.4764 - val_accuracy: 0.7810\n",
            "Epoch 75/100\n",
            "20/20 [==============================] - 16s 807ms/step - loss: 0.4595 - accuracy: 0.7824 - val_loss: 0.5721 - val_accuracy: 0.6920\n",
            "Epoch 76/100\n",
            "20/20 [==============================] - 16s 804ms/step - loss: 0.4939 - accuracy: 0.7674 - val_loss: 0.4387 - val_accuracy: 0.7860\n",
            "Epoch 77/100\n",
            "20/20 [==============================] - 16s 804ms/step - loss: 0.4429 - accuracy: 0.8002 - val_loss: 0.4712 - val_accuracy: 0.8040\n",
            "Epoch 78/100\n",
            "20/20 [==============================] - 16s 805ms/step - loss: 0.4358 - accuracy: 0.7974 - val_loss: 0.4747 - val_accuracy: 0.7850\n",
            "Epoch 79/100\n",
            "20/20 [==============================] - 16s 813ms/step - loss: 0.4656 - accuracy: 0.7945 - val_loss: 0.5666 - val_accuracy: 0.7230\n",
            "Epoch 80/100\n",
            "20/20 [==============================] - 16s 806ms/step - loss: 0.4575 - accuracy: 0.7838 - val_loss: 0.6163 - val_accuracy: 0.7330\n",
            "Epoch 81/100\n",
            "20/20 [==============================] - 16s 805ms/step - loss: 0.4398 - accuracy: 0.8025 - val_loss: 0.4690 - val_accuracy: 0.7730\n",
            "Epoch 82/100\n",
            "20/20 [==============================] - 16s 804ms/step - loss: 0.4218 - accuracy: 0.8095 - val_loss: 0.4801 - val_accuracy: 0.7870\n",
            "Epoch 83/100\n",
            "20/20 [==============================] - 16s 823ms/step - loss: 0.4188 - accuracy: 0.8176 - val_loss: 0.4559 - val_accuracy: 0.7970\n",
            "Epoch 84/100\n",
            "20/20 [==============================] - 16s 811ms/step - loss: 0.4373 - accuracy: 0.7940 - val_loss: 0.4349 - val_accuracy: 0.8110\n",
            "Epoch 85/100\n",
            "20/20 [==============================] - 16s 810ms/step - loss: 0.4485 - accuracy: 0.7866 - val_loss: 0.4426 - val_accuracy: 0.7880\n",
            "Epoch 86/100\n",
            "20/20 [==============================] - 16s 806ms/step - loss: 0.4267 - accuracy: 0.8196 - val_loss: 0.4461 - val_accuracy: 0.8050\n",
            "Epoch 87/100\n",
            "20/20 [==============================] - 16s 808ms/step - loss: 0.4352 - accuracy: 0.8124 - val_loss: 0.4138 - val_accuracy: 0.8260\n",
            "Epoch 88/100\n",
            "20/20 [==============================] - 16s 813ms/step - loss: 0.4204 - accuracy: 0.8213 - val_loss: 0.4679 - val_accuracy: 0.7830\n",
            "Epoch 89/100\n",
            "20/20 [==============================] - 16s 811ms/step - loss: 0.4179 - accuracy: 0.8089 - val_loss: 0.4193 - val_accuracy: 0.8170\n",
            "Epoch 90/100\n",
            "20/20 [==============================] - 16s 804ms/step - loss: 0.4380 - accuracy: 0.7967 - val_loss: 0.4173 - val_accuracy: 0.8170\n",
            "Epoch 91/100\n",
            "20/20 [==============================] - 16s 804ms/step - loss: 0.4025 - accuracy: 0.8233 - val_loss: 0.4146 - val_accuracy: 0.8110\n",
            "Epoch 92/100\n",
            "20/20 [==============================] - 16s 805ms/step - loss: 0.3990 - accuracy: 0.8269 - val_loss: 0.4539 - val_accuracy: 0.7910\n",
            "Epoch 93/100\n",
            "20/20 [==============================] - 16s 806ms/step - loss: 0.4113 - accuracy: 0.8114 - val_loss: 0.4773 - val_accuracy: 0.8030\n",
            "Epoch 94/100\n",
            "20/20 [==============================] - 16s 808ms/step - loss: 0.4211 - accuracy: 0.8106 - val_loss: 0.4459 - val_accuracy: 0.8190\n",
            "Epoch 95/100\n",
            "20/20 [==============================] - 16s 806ms/step - loss: 0.3723 - accuracy: 0.8426 - val_loss: 0.4592 - val_accuracy: 0.7970\n",
            "Epoch 96/100\n",
            "20/20 [==============================] - 16s 804ms/step - loss: 0.4368 - accuracy: 0.8024 - val_loss: 0.4287 - val_accuracy: 0.8220\n",
            "Epoch 97/100\n",
            "20/20 [==============================] - 16s 803ms/step - loss: 0.3952 - accuracy: 0.8303 - val_loss: 0.6174 - val_accuracy: 0.7380\n",
            "Epoch 98/100\n",
            "20/20 [==============================] - 16s 804ms/step - loss: 0.4589 - accuracy: 0.7980 - val_loss: 0.4166 - val_accuracy: 0.8050\n",
            "Epoch 99/100\n",
            "20/20 [==============================] - 16s 808ms/step - loss: 0.4291 - accuracy: 0.8119 - val_loss: 0.4002 - val_accuracy: 0.8190\n",
            "Epoch 100/100\n",
            "20/20 [==============================] - 16s 804ms/step - loss: 0.4092 - accuracy: 0.8136 - val_loss: 0.4063 - val_accuracy: 0.8140\n"
          ],
          "name": "stdout"
        }
      ]
    },
    {
      "cell_type": "markdown",
      "metadata": {
        "id": "vveciAEm56j_"
      },
      "source": [
        "## visualizing results of the training"
      ]
    },
    {
      "cell_type": "code",
      "metadata": {
        "colab": {
          "base_uri": "https://localhost:8080/",
          "height": 562
        },
        "id": "eFUEeVz156j_",
        "outputId": "1acee01f-dd4d-419d-a14f-ebfe50e7f919"
      },
      "source": [
        "acc = history.history['accuracy']\n",
        "val_acc = history.history['val_accuracy']\n",
        "\n",
        "loss = history.history['loss']\n",
        "val_loss = history.history['val_loss']\n",
        "\n",
        "epochs_range = range(EPOCHS)\n",
        "\n",
        "acc = history.history['accuracy']\n",
        "val_acc = history.history['val_accuracy']\n",
        "loss = history.history['loss']\n",
        "val_loss = history.history['val_loss']\n",
        "epochs = range(EPOCHS)\n",
        "\n",
        "plt.plot(epochs, acc, 'bo', label = 'training acc')\n",
        "plt.plot(epochs, val_acc, label='Validation Accuracy')\n",
        "plt.title('training accuracy')\n",
        "plt.legend()\n",
        "plt.figure()\n",
        "plt.plot(epochs, loss, 'bo', label = 'training loss')\n",
        "plt.plot(epochs, val_loss, label='Validation Loss')\n",
        "plt.title('training loss')\n",
        "plt.legend()\n",
        "\n",
        "plt.show"
      ],
      "execution_count": 8,
      "outputs": [
        {
          "output_type": "execute_result",
          "data": {
            "text/plain": [
              "<function matplotlib.pyplot.show>"
            ]
          },
          "metadata": {
            "tags": []
          },
          "execution_count": 8
        },
        {
          "output_type": "display_data",
          "data": {
            "image/png": "[encoded data removed]",
            "text/plain": [
              "<Figure size 432x288 with 1 Axes>"
            ]
          },
          "metadata": {
            "tags": [],
            "needs_background": "light"
          }
        },
        {
          "output_type": "display_data",
          "data": {
            "image/png": "[encoded data removed]",
            "text/plain": [
              "<Figure size 432x288 with 1 Axes>"
            ]
          },
          "metadata": {
            "tags": [],
            "needs_background": "light"
          }
        }
      ]
    }
  ]
}