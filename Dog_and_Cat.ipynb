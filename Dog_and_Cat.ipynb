{
  "nbformat": 4,
  "nbformat_minor": 0,
  "metadata": {
    "kernelspec": {
      "display_name": "Python 3",
      "language": "python",
      "name": "python3"
    },
    "language_info": {
      "codemirror_mode": {
        "name": "ipython",
        "version": 3
      },
      "file_extension": ".py",
      "mimetype": "text/x-python",
      "name": "python",
      "nbconvert_exporter": "python",
      "pygments_lexer": "ipython3",
      "version": "3.8.3"
    },
    "colab": {
      "name": "Dog_and_Cat.ipynb",
      "provenance": []
    },
    "accelerator": "GPU"
  },
  "cells": [
    {
      "cell_type": "markdown",
      "metadata": {
        "id": "10gW616AEhzE"
      },
      "source": [
        "# Cat&Dog"
      ]
    },
    {
      "cell_type": "markdown",
      "metadata": {
        "id": "PXgTFldLEhzO"
      },
      "source": [
        "## import packages"
      ]
    },
    {
      "cell_type": "code",
      "metadata": {
        "id": "6ZCHAtsKEhzP"
      },
      "source": [
        "import tensorflow as tf\n",
        "from tensorflow.keras.preprocessing.image import ImageDataGenerator\n",
        "import os\n",
        "import numpy as np\n",
        "import matplotlib.pyplot as plt"
      ],
      "execution_count": 1,
      "outputs": []
    },
    {
      "cell_type": "markdown",
      "metadata": {
        "id": "3BBYWUjlEhzQ"
      },
      "source": [
        "## downland data"
      ]
    },
    {
      "cell_type": "code",
      "metadata": {
        "colab": {
          "base_uri": "https://localhost:8080/"
        },
        "id": "nMIxLQi9EhzQ",
        "outputId": "4871fb7d-2288-4cff-92a0-fa25556f0600"
      },
      "source": [
        "_URL = 'https://storage.googleapis.com/mledu-datasets/cats_and_dogs_filtered.zip'\n",
        "\n",
        "zip_dir = tf.keras.utils.get_file('cats_and_dogs_filterted.zip', origin=_URL, extract=True)\n",
        "base_dir = os.path.join(os.path.dirname(zip_dir), 'cats_and_dogs_filtered')\n",
        "train_dir = os.path.join(base_dir, 'train')\n",
        "validation_dir = os.path.join(base_dir, 'validation')\n",
        "train_cats_dir = os.path.join(train_dir, 'cats')  \n",
        "train_dogs_dir = os.path.join(train_dir, 'dogs')  \n",
        "validation_cats_dir = os.path.join(validation_dir, 'cats')  \n",
        "validation_dogs_dir = os.path.join(validation_dir, 'dogs')  "
      ],
      "execution_count": 2,
      "outputs": [
        {
          "output_type": "stream",
          "text": [
            "Downloading data from https://storage.googleapis.com/mledu-datasets/cats_and_dogs_filtered.zip\n",
            "68608000/68606236 [==============================] - 1s 0us/step\n"
          ],
          "name": "stdout"
        }
      ]
    },
    {
      "cell_type": "code",
      "metadata": {
        "colab": {
          "base_uri": "https://localhost:8080/"
        },
        "id": "kc6_xpX5EhzR",
        "outputId": "a4dc9178-dd8c-4d65-b486-88c6eebe8fe6"
      },
      "source": [
        "num_cats_tr = len(os.listdir(train_cats_dir))\n",
        "num_dogs_tr = len(os.listdir(train_dogs_dir))\n",
        "num_cats_val = len(os.listdir(validation_cats_dir))\n",
        "num_dogs_val = len(os.listdir(validation_dogs_dir))\n",
        "\n",
        "total_train = num_cats_tr + num_dogs_tr\n",
        "total_val = num_cats_val + num_dogs_val\n",
        "\n",
        "print('total training cat images:', num_cats_tr)\n",
        "print('total training dog images:', num_dogs_tr)\n",
        "print('total validation cat images:', num_cats_val)\n",
        "print('total validation dog images:', num_dogs_val)\n",
        "print(\"Total training images:\", total_train)\n",
        "print(\"Total validation images:\", total_val)"
      ],
      "execution_count": 3,
      "outputs": [
        {
          "output_type": "stream",
          "text": [
            "total training cat images: 1000\n",
            "total training dog images: 1000\n",
            "total validation cat images: 500\n",
            "total validation dog images: 500\n",
            "Total training images: 2000\n",
            "Total validation images: 1000\n"
          ],
          "name": "stdout"
        }
      ]
    },
    {
      "cell_type": "code",
      "metadata": {
        "id": "7QzVm3s5EhzR"
      },
      "source": [
        "train_image_generator      = ImageDataGenerator(rescale=1./255)  \n",
        "validation_image_generator = ImageDataGenerator(rescale=1./255)"
      ],
      "execution_count": 4,
      "outputs": []
    },
    {
      "cell_type": "markdown",
      "metadata": {
        "id": "XHE2wKsLEhzR"
      },
      "source": [
        "Data generator"
      ]
    },
    {
      "cell_type": "code",
      "metadata": {
        "colab": {
          "base_uri": "https://localhost:8080/"
        },
        "id": "oT92tFnzEhzS",
        "outputId": "264fd0ff-c7fa-44aa-b30c-2b2701516bb0"
      },
      "source": [
        "train_data_gen = train_image_generator.flow_from_directory(batch_size = 100,\n",
        "                                                           directory = train_dir,\n",
        "                                                           shuffle = False,\n",
        "                                                           target_size = (150,150), \n",
        "                                                           class_mode='binary')"
      ],
      "execution_count": 5,
      "outputs": [
        {
          "output_type": "stream",
          "text": [
            "Found 2000 images belonging to 2 classes.\n"
          ],
          "name": "stdout"
        }
      ]
    },
    {
      "cell_type": "code",
      "metadata": {
        "colab": {
          "base_uri": "https://localhost:8080/"
        },
        "id": "liGrtti0EhzS",
        "outputId": "31db60f2-4be5-464b-f49a-792062a6db55"
      },
      "source": [
        "val_data_gen = validation_image_generator.flow_from_directory(batch_size = 100,\n",
        "                                                              directory = validation_dir,\n",
        "                                                              shuffle = False,\n",
        "                                                              target_size = (150,150), \n",
        "                                                              class_mode = 'binary')"
      ],
      "execution_count": 6,
      "outputs": [
        {
          "output_type": "stream",
          "text": [
            "Found 1000 images belonging to 2 classes.\n"
          ],
          "name": "stdout"
        }
      ]
    },
    {
      "cell_type": "markdown",
      "metadata": {
        "id": "l8brD42yEhzS"
      },
      "source": [
        "## My model"
      ]
    },
    {
      "cell_type": "code",
      "metadata": {
        "id": "dre2YhOMEhzT"
      },
      "source": [
        "import keras\n",
        "from keras import models\n",
        "from keras import layers\n",
        "CD = models.Sequential()\n",
        "CD.add(layers.Conv2D(32, (3,3), activation='relu', input_shape=(150, 150, 3)))\n",
        "CD.add(layers.MaxPooling2D(2,2))\n",
        "\n",
        "#CD.add(layers.Conv2D(64, (3,3), activation='relu'))\n",
        "CD.add(layers.Conv2D(64, (3,3), activation='relu'))\n",
        "CD.add(layers.MaxPooling2D(2,2))\n",
        "\n",
        "#CD.add(layers.Conv2D(128, (3,3), activation = 'relu'))\n",
        "CD.add(layers.Conv2D(128, (3,3), activation = 'relu'))\n",
        "CD.add(layers.MaxPooling2D(2,2))\n",
        "\n",
        "#CD.add(layers.Conv2D(128, (3,3), activation = 'relu'))\n",
        "CD.add(layers.Conv2D(128, (3,3), activation = 'relu'))\n",
        "CD.add(layers.MaxPooling2D(2,2))\n",
        "\n",
        "CD.add(layers.Flatten())\n",
        "\n",
        "CD.add(layers.Dense(512, activation = 'relu'))\n",
        "CD.add(layers.Dense(1, activation = 'sigmoid'))"
      ],
      "execution_count": 7,
      "outputs": []
    },
    {
      "cell_type": "code",
      "metadata": {
        "colab": {
          "base_uri": "https://localhost:8080/"
        },
        "id": "1lp1NeYEEhzT",
        "outputId": "d180e0c8-6061-4dd4-8c3e-1ee28b500a5c"
      },
      "source": [
        "CD.summary()"
      ],
      "execution_count": 8,
      "outputs": [
        {
          "output_type": "stream",
          "text": [
            "Model: \"sequential\"\n",
            "_________________________________________________________________\n",
            "Layer (type)                 Output Shape              Param #   \n",
            "=================================================================\n",
            "conv2d (Conv2D)              (None, 148, 148, 32)      896       \n",
            "_________________________________________________________________\n",
            "max_pooling2d (MaxPooling2D) (None, 74, 74, 32)        0         \n",
            "_________________________________________________________________\n",
            "conv2d_1 (Conv2D)            (None, 72, 72, 64)        18496     \n",
            "_________________________________________________________________\n",
            "max_pooling2d_1 (MaxPooling2 (None, 36, 36, 64)        0         \n",
            "_________________________________________________________________\n",
            "conv2d_2 (Conv2D)            (None, 34, 34, 128)       73856     \n",
            "_________________________________________________________________\n",
            "max_pooling2d_2 (MaxPooling2 (None, 17, 17, 128)       0         \n",
            "_________________________________________________________________\n",
            "conv2d_3 (Conv2D)            (None, 15, 15, 128)       147584    \n",
            "_________________________________________________________________\n",
            "max_pooling2d_3 (MaxPooling2 (None, 7, 7, 128)         0         \n",
            "_________________________________________________________________\n",
            "flatten (Flatten)            (None, 6272)              0         \n",
            "_________________________________________________________________\n",
            "dense (Dense)                (None, 512)               3211776   \n",
            "_________________________________________________________________\n",
            "dense_1 (Dense)              (None, 1)                 513       \n",
            "=================================================================\n",
            "Total params: 3,453,121\n",
            "Trainable params: 3,453,121\n",
            "Non-trainable params: 0\n",
            "_________________________________________________________________\n"
          ],
          "name": "stdout"
        }
      ]
    },
    {
      "cell_type": "code",
      "metadata": {
        "id": "d_rUHBlMEhzT"
      },
      "source": [
        "CD.compile(optimizer = 'rmsprop',\n",
        "              loss = 'binary_crossentropy',\n",
        "              metrics = ['accuracy'])"
      ],
      "execution_count": 9,
      "outputs": []
    },
    {
      "cell_type": "markdown",
      "metadata": {
        "id": "-y7U2M_gEhzU"
      },
      "source": [
        "# model training"
      ]
    },
    {
      "cell_type": "code",
      "metadata": {
        "colab": {
          "base_uri": "https://localhost:8080/"
        },
        "id": "oVBzlSh0EhzU",
        "outputId": "765a5d09-626b-4e9b-e8f2-6ce4eeb8e1de"
      },
      "source": [
        "EPOCHS = 100\n",
        "BATCH_SIZE = 100\n",
        "history = CD.fit_generator(\n",
        "    train_data_gen,\n",
        "    steps_per_epoch=int(np.ceil(total_train / float(BATCH_SIZE))),\n",
        "    epochs=EPOCHS,\n",
        "    validation_data=val_data_gen,\n",
        "    validation_steps=int(np.ceil(total_val / float(BATCH_SIZE)))\n",
        ")"
      ],
      "execution_count": 10,
      "outputs": [
        {
          "output_type": "stream",
          "text": [
            "/usr/local/lib/python3.6/dist-packages/tensorflow/python/keras/engine/training.py:1844: UserWarning: `Model.fit_generator` is deprecated and will be removed in a future version. Please use `Model.fit`, which supports generators.\n",
            "  warnings.warn('`Model.fit_generator` is deprecated and '\n"
          ],
          "name": "stderr"
        },
        {
          "output_type": "stream",
          "text": [
            "Epoch 1/100\n",
            "20/20 [==============================] - 16s 425ms/step - loss: 4.8498 - accuracy: 0.4508 - val_loss: 0.6926 - val_accuracy: 0.5000\n",
            "Epoch 2/100\n",
            "20/20 [==============================] - 8s 412ms/step - loss: 1.0452 - accuracy: 0.6646 - val_loss: 0.6917 - val_accuracy: 0.5000\n",
            "Epoch 3/100\n",
            "20/20 [==============================] - 8s 408ms/step - loss: 0.6922 - accuracy: 0.5720 - val_loss: 0.6914 - val_accuracy: 0.5000\n",
            "Epoch 4/100\n",
            "20/20 [==============================] - 8s 413ms/step - loss: 0.7887 - accuracy: 0.3481 - val_loss: 0.6929 - val_accuracy: 0.5200\n",
            "Epoch 5/100\n",
            "20/20 [==============================] - 8s 413ms/step - loss: 0.7006 - accuracy: 0.5196 - val_loss: 0.6980 - val_accuracy: 0.5000\n",
            "Epoch 6/100\n",
            "20/20 [==============================] - 8s 412ms/step - loss: 0.7083 - accuracy: 0.1840 - val_loss: 0.6931 - val_accuracy: 0.5630\n",
            "Epoch 7/100\n",
            "20/20 [==============================] - 8s 406ms/step - loss: 0.6939 - accuracy: 0.4485 - val_loss: 0.6937 - val_accuracy: 0.5000\n",
            "Epoch 8/100\n",
            "20/20 [==============================] - 8s 415ms/step - loss: 0.6947 - accuracy: 0.2673 - val_loss: 0.6931 - val_accuracy: 0.5000\n",
            "Epoch 9/100\n",
            "20/20 [==============================] - 8s 413ms/step - loss: 0.6935 - accuracy: 0.4745 - val_loss: 0.6923 - val_accuracy: 0.5000\n",
            "Epoch 10/100\n",
            "20/20 [==============================] - 8s 407ms/step - loss: 0.7120 - accuracy: 0.5594 - val_loss: 0.6931 - val_accuracy: 0.5000\n",
            "Epoch 11/100\n",
            "20/20 [==============================] - 8s 406ms/step - loss: 0.7793 - accuracy: 0.7210 - val_loss: 0.7010 - val_accuracy: 0.5000\n",
            "Epoch 12/100\n",
            "20/20 [==============================] - 8s 404ms/step - loss: 0.7174 - accuracy: 0.4476 - val_loss: 0.6941 - val_accuracy: 0.5000\n",
            "Epoch 13/100\n",
            "20/20 [==============================] - 8s 405ms/step - loss: 0.6984 - accuracy: 0.3992 - val_loss: 0.6932 - val_accuracy: 0.5000\n",
            "Epoch 14/100\n",
            "20/20 [==============================] - 8s 410ms/step - loss: 0.6944 - accuracy: 0.3403 - val_loss: 0.6931 - val_accuracy: 0.5000\n",
            "Epoch 15/100\n",
            "20/20 [==============================] - 8s 408ms/step - loss: 0.6932 - accuracy: 0.5787 - val_loss: 0.6931 - val_accuracy: 0.5000\n",
            "Epoch 16/100\n",
            "20/20 [==============================] - 8s 406ms/step - loss: 0.6934 - accuracy: 0.4128 - val_loss: 0.6932 - val_accuracy: 0.4890\n",
            "Epoch 17/100\n",
            "20/20 [==============================] - 8s 408ms/step - loss: 0.7175 - accuracy: 0.5116 - val_loss: 0.6931 - val_accuracy: 0.5000\n",
            "Epoch 18/100\n",
            "20/20 [==============================] - 8s 402ms/step - loss: 0.6942 - accuracy: 0.6667 - val_loss: 0.6932 - val_accuracy: 0.5000\n",
            "Epoch 19/100\n",
            "20/20 [==============================] - 8s 403ms/step - loss: 0.6938 - accuracy: 0.5989 - val_loss: 0.6931 - val_accuracy: 0.6070\n",
            "Epoch 20/100\n",
            "20/20 [==============================] - 8s 404ms/step - loss: 0.6937 - accuracy: 0.4216 - val_loss: 0.6931 - val_accuracy: 0.5000\n",
            "Epoch 21/100\n",
            "20/20 [==============================] - 8s 403ms/step - loss: 0.6937 - accuracy: 0.3204 - val_loss: 0.6931 - val_accuracy: 0.5000\n",
            "Epoch 22/100\n",
            "20/20 [==============================] - 8s 402ms/step - loss: 0.6967 - accuracy: 0.6944 - val_loss: 0.7165 - val_accuracy: 0.5000\n",
            "Epoch 23/100\n",
            "20/20 [==============================] - 8s 402ms/step - loss: 0.7249 - accuracy: 0.5556 - val_loss: 0.6952 - val_accuracy: 0.5000\n",
            "Epoch 24/100\n",
            "20/20 [==============================] - 8s 409ms/step - loss: 0.6959 - accuracy: 0.5541 - val_loss: 0.6950 - val_accuracy: 0.4990\n",
            "Epoch 25/100\n",
            "20/20 [==============================] - 8s 403ms/step - loss: 0.6978 - accuracy: 0.2390 - val_loss: 0.6931 - val_accuracy: 0.5030\n",
            "Epoch 26/100\n",
            "20/20 [==============================] - 8s 399ms/step - loss: 0.7003 - accuracy: 0.3700 - val_loss: 0.6917 - val_accuracy: 0.5000\n",
            "Epoch 27/100\n",
            "20/20 [==============================] - 8s 406ms/step - loss: 0.7185 - accuracy: 0.5596 - val_loss: 0.6926 - val_accuracy: 0.5030\n",
            "Epoch 28/100\n",
            "20/20 [==============================] - 8s 406ms/step - loss: 0.6964 - accuracy: 0.3908 - val_loss: 0.6931 - val_accuracy: 0.5000\n",
            "Epoch 29/100\n",
            "20/20 [==============================] - 8s 408ms/step - loss: 0.6921 - accuracy: 0.7097 - val_loss: 0.6929 - val_accuracy: 0.5000\n",
            "Epoch 30/100\n",
            "20/20 [==============================] - 8s 404ms/step - loss: 0.6935 - accuracy: 0.6773 - val_loss: 0.6928 - val_accuracy: 0.5050\n",
            "Epoch 31/100\n",
            "20/20 [==============================] - 8s 405ms/step - loss: 0.6939 - accuracy: 0.2290 - val_loss: 0.6879 - val_accuracy: 0.5000\n",
            "Epoch 32/100\n",
            "20/20 [==============================] - 8s 408ms/step - loss: 0.7159 - accuracy: 0.4961 - val_loss: 0.6914 - val_accuracy: 0.5060\n",
            "Epoch 33/100\n",
            "20/20 [==============================] - 8s 407ms/step - loss: 0.7745 - accuracy: 0.7426 - val_loss: 0.6928 - val_accuracy: 0.5340\n",
            "Epoch 34/100\n",
            "20/20 [==============================] - 8s 409ms/step - loss: 0.6997 - accuracy: 0.4520 - val_loss: 0.6863 - val_accuracy: 0.5470\n",
            "Epoch 35/100\n",
            "20/20 [==============================] - 8s 406ms/step - loss: 0.6964 - accuracy: 0.5160 - val_loss: 0.6840 - val_accuracy: 0.5170\n",
            "Epoch 36/100\n",
            "20/20 [==============================] - 8s 403ms/step - loss: 0.6994 - accuracy: 0.4759 - val_loss: 0.6872 - val_accuracy: 0.5320\n",
            "Epoch 37/100\n",
            "20/20 [==============================] - 8s 406ms/step - loss: 0.7473 - accuracy: 0.5563 - val_loss: 0.6777 - val_accuracy: 0.5990\n",
            "Epoch 38/100\n",
            "20/20 [==============================] - 8s 406ms/step - loss: 0.7366 - accuracy: 0.5778 - val_loss: 0.6706 - val_accuracy: 0.6040\n",
            "Epoch 39/100\n",
            "20/20 [==============================] - 8s 408ms/step - loss: 0.6781 - accuracy: 0.5844 - val_loss: 0.6662 - val_accuracy: 0.6370\n",
            "Epoch 40/100\n",
            "20/20 [==============================] - 8s 407ms/step - loss: 0.7436 - accuracy: 0.5648 - val_loss: 0.6576 - val_accuracy: 0.6290\n",
            "Epoch 41/100\n",
            "20/20 [==============================] - 8s 408ms/step - loss: 0.6661 - accuracy: 0.5852 - val_loss: 0.6441 - val_accuracy: 0.6250\n",
            "Epoch 42/100\n",
            "20/20 [==============================] - 8s 406ms/step - loss: 0.6673 - accuracy: 0.5778 - val_loss: 0.6471 - val_accuracy: 0.6440\n",
            "Epoch 43/100\n",
            "20/20 [==============================] - 8s 406ms/step - loss: 0.7271 - accuracy: 0.6358 - val_loss: 0.6636 - val_accuracy: 0.6250\n",
            "Epoch 44/100\n",
            "20/20 [==============================] - 8s 411ms/step - loss: 0.6683 - accuracy: 0.5805 - val_loss: 0.6300 - val_accuracy: 0.6530\n",
            "Epoch 45/100\n",
            "20/20 [==============================] - 8s 408ms/step - loss: 0.6943 - accuracy: 0.6816 - val_loss: 0.6380 - val_accuracy: 0.6600\n",
            "Epoch 46/100\n",
            "20/20 [==============================] - 8s 410ms/step - loss: 0.6271 - accuracy: 0.6600 - val_loss: 0.6180 - val_accuracy: 0.6870\n",
            "Epoch 47/100\n",
            "20/20 [==============================] - 8s 413ms/step - loss: 0.6267 - accuracy: 0.6690 - val_loss: 1.9725 - val_accuracy: 0.5010\n",
            "Epoch 48/100\n",
            "20/20 [==============================] - 8s 409ms/step - loss: 1.2415 - accuracy: 0.5650 - val_loss: 0.7014 - val_accuracy: 0.6350\n",
            "Epoch 49/100\n",
            "20/20 [==============================] - 8s 408ms/step - loss: 0.7858 - accuracy: 0.6334 - val_loss: 0.6014 - val_accuracy: 0.6610\n",
            "Epoch 50/100\n",
            "20/20 [==============================] - 8s 406ms/step - loss: 0.5777 - accuracy: 0.6761 - val_loss: 0.5989 - val_accuracy: 0.6790\n",
            "Epoch 51/100\n",
            "20/20 [==============================] - 8s 408ms/step - loss: 0.7390 - accuracy: 0.7511 - val_loss: 0.6050 - val_accuracy: 0.6590\n",
            "Epoch 52/100\n",
            "20/20 [==============================] - 8s 405ms/step - loss: 0.5676 - accuracy: 0.7021 - val_loss: 0.5900 - val_accuracy: 0.6950\n",
            "Epoch 53/100\n",
            "20/20 [==============================] - 8s 405ms/step - loss: 0.6796 - accuracy: 0.7201 - val_loss: 0.5935 - val_accuracy: 0.6900\n",
            "Epoch 54/100\n",
            "20/20 [==============================] - 8s 409ms/step - loss: 0.6333 - accuracy: 0.7078 - val_loss: 0.6168 - val_accuracy: 0.6670\n",
            "Epoch 55/100\n",
            "20/20 [==============================] - 8s 408ms/step - loss: 0.5565 - accuracy: 0.6997 - val_loss: 2.0561 - val_accuracy: 0.5010\n",
            "Epoch 56/100\n",
            "20/20 [==============================] - 8s 403ms/step - loss: 0.8550 - accuracy: 0.7976 - val_loss: 0.5806 - val_accuracy: 0.6870\n",
            "Epoch 57/100\n",
            "20/20 [==============================] - 8s 405ms/step - loss: 0.5617 - accuracy: 0.7220 - val_loss: 0.5731 - val_accuracy: 0.7220\n",
            "Epoch 58/100\n",
            "20/20 [==============================] - 8s 402ms/step - loss: 0.5424 - accuracy: 0.7292 - val_loss: 0.6260 - val_accuracy: 0.6560\n",
            "Epoch 59/100\n",
            "20/20 [==============================] - 8s 403ms/step - loss: 0.5340 - accuracy: 0.7407 - val_loss: 0.5705 - val_accuracy: 0.7040\n",
            "Epoch 60/100\n",
            "20/20 [==============================] - 8s 408ms/step - loss: 0.6109 - accuracy: 0.7341 - val_loss: 0.5702 - val_accuracy: 0.7150\n",
            "Epoch 61/100\n",
            "20/20 [==============================] - 8s 406ms/step - loss: 0.5456 - accuracy: 0.7649 - val_loss: 0.9531 - val_accuracy: 0.6110\n",
            "Epoch 62/100\n",
            "20/20 [==============================] - 8s 406ms/step - loss: 0.6736 - accuracy: 0.6854 - val_loss: 0.5667 - val_accuracy: 0.7140\n",
            "Epoch 63/100\n",
            "20/20 [==============================] - 8s 407ms/step - loss: 0.4565 - accuracy: 0.8068 - val_loss: 0.5605 - val_accuracy: 0.7180\n",
            "Epoch 64/100\n",
            "20/20 [==============================] - 8s 412ms/step - loss: 0.4624 - accuracy: 0.8015 - val_loss: 0.5791 - val_accuracy: 0.7260\n",
            "Epoch 65/100\n",
            "20/20 [==============================] - 8s 407ms/step - loss: 0.4345 - accuracy: 0.7924 - val_loss: 0.5992 - val_accuracy: 0.7010\n",
            "Epoch 66/100\n",
            "20/20 [==============================] - 8s 406ms/step - loss: 0.4240 - accuracy: 0.8166 - val_loss: 0.6062 - val_accuracy: 0.6950\n",
            "Epoch 67/100\n",
            "20/20 [==============================] - 8s 410ms/step - loss: 0.4256 - accuracy: 0.7952 - val_loss: 0.5710 - val_accuracy: 0.7150\n",
            "Epoch 68/100\n",
            "20/20 [==============================] - 8s 405ms/step - loss: 0.3932 - accuracy: 0.8250 - val_loss: 0.5687 - val_accuracy: 0.7200\n",
            "Epoch 69/100\n",
            "20/20 [==============================] - 8s 406ms/step - loss: 0.3846 - accuracy: 0.8340 - val_loss: 0.6480 - val_accuracy: 0.7120\n",
            "Epoch 70/100\n",
            "20/20 [==============================] - 8s 407ms/step - loss: 0.4208 - accuracy: 0.8150 - val_loss: 0.5744 - val_accuracy: 0.7280\n",
            "Epoch 71/100\n",
            "20/20 [==============================] - 8s 408ms/step - loss: 0.2755 - accuracy: 0.8899 - val_loss: 1.5503 - val_accuracy: 0.5640\n",
            "Epoch 72/100\n",
            "20/20 [==============================] - 8s 407ms/step - loss: 0.6828 - accuracy: 0.7707 - val_loss: 0.6307 - val_accuracy: 0.7280\n",
            "Epoch 73/100\n",
            "20/20 [==============================] - 8s 406ms/step - loss: 0.2607 - accuracy: 0.8921 - val_loss: 0.7033 - val_accuracy: 0.7070\n",
            "Epoch 74/100\n",
            "20/20 [==============================] - 8s 407ms/step - loss: 0.3065 - accuracy: 0.8885 - val_loss: 0.6048 - val_accuracy: 0.7250\n",
            "Epoch 75/100\n",
            "20/20 [==============================] - 8s 406ms/step - loss: 0.2492 - accuracy: 0.9062 - val_loss: 0.7327 - val_accuracy: 0.7100\n",
            "Epoch 76/100\n",
            "20/20 [==============================] - 8s 407ms/step - loss: 0.2403 - accuracy: 0.9068 - val_loss: 0.7021 - val_accuracy: 0.7200\n",
            "Epoch 77/100\n",
            "20/20 [==============================] - 8s 404ms/step - loss: 0.2304 - accuracy: 0.9139 - val_loss: 0.7533 - val_accuracy: 0.7100\n",
            "Epoch 78/100\n",
            "20/20 [==============================] - 8s 408ms/step - loss: 0.2776 - accuracy: 0.8825 - val_loss: 0.7524 - val_accuracy: 0.7250\n",
            "Epoch 79/100\n",
            "20/20 [==============================] - 8s 404ms/step - loss: 0.1318 - accuracy: 0.9529 - val_loss: 1.4974 - val_accuracy: 0.6620\n",
            "Epoch 80/100\n",
            "20/20 [==============================] - 8s 402ms/step - loss: 0.3762 - accuracy: 0.8638 - val_loss: 0.8801 - val_accuracy: 0.7150\n",
            "Epoch 81/100\n",
            "20/20 [==============================] - 8s 404ms/step - loss: 0.1637 - accuracy: 0.9306 - val_loss: 0.9345 - val_accuracy: 0.7170\n",
            "Epoch 82/100\n",
            "20/20 [==============================] - 8s 409ms/step - loss: 0.1751 - accuracy: 0.9324 - val_loss: 0.8251 - val_accuracy: 0.7120\n",
            "Epoch 83/100\n",
            "20/20 [==============================] - 8s 406ms/step - loss: 0.1001 - accuracy: 0.9728 - val_loss: 0.9485 - val_accuracy: 0.7530\n",
            "Epoch 84/100\n",
            "20/20 [==============================] - 8s 408ms/step - loss: 0.1641 - accuracy: 0.9407 - val_loss: 0.7704 - val_accuracy: 0.7640\n",
            "Epoch 85/100\n",
            "20/20 [==============================] - 8s 415ms/step - loss: 0.0501 - accuracy: 0.9871 - val_loss: 1.5503 - val_accuracy: 0.6730\n",
            "Epoch 86/100\n",
            "20/20 [==============================] - 8s 412ms/step - loss: 0.3326 - accuracy: 0.9011 - val_loss: 0.9084 - val_accuracy: 0.7430\n",
            "Epoch 87/100\n",
            "20/20 [==============================] - 8s 408ms/step - loss: 0.0677 - accuracy: 0.9816 - val_loss: 0.8026 - val_accuracy: 0.7320\n",
            "Epoch 88/100\n",
            "20/20 [==============================] - 8s 405ms/step - loss: 0.0225 - accuracy: 0.9995 - val_loss: 1.1184 - val_accuracy: 0.7330\n",
            "Epoch 89/100\n",
            "20/20 [==============================] - 8s 404ms/step - loss: 0.1391 - accuracy: 0.9636 - val_loss: 0.9119 - val_accuracy: 0.7210\n",
            "Epoch 90/100\n",
            "20/20 [==============================] - 8s 404ms/step - loss: 0.0268 - accuracy: 0.9987 - val_loss: 1.0905 - val_accuracy: 0.7590\n",
            "Epoch 91/100\n",
            "20/20 [==============================] - 8s 404ms/step - loss: 0.0046 - accuracy: 1.0000 - val_loss: 1.3745 - val_accuracy: 0.7520\n",
            "Epoch 92/100\n",
            "20/20 [==============================] - 8s 406ms/step - loss: 0.8238 - accuracy: 0.8645 - val_loss: 1.0767 - val_accuracy: 0.7620\n",
            "Epoch 93/100\n",
            "20/20 [==============================] - 8s 406ms/step - loss: 0.0078 - accuracy: 1.0000 - val_loss: 1.4005 - val_accuracy: 0.7390\n",
            "Epoch 94/100\n",
            "20/20 [==============================] - 8s 413ms/step - loss: 0.1233 - accuracy: 0.9626 - val_loss: 1.0022 - val_accuracy: 0.7550\n",
            "Epoch 95/100\n",
            "20/20 [==============================] - 8s 408ms/step - loss: 0.0106 - accuracy: 0.9991 - val_loss: 1.2247 - val_accuracy: 0.7560\n",
            "Epoch 96/100\n",
            "20/20 [==============================] - 8s 405ms/step - loss: 0.0024 - accuracy: 1.0000 - val_loss: 1.3969 - val_accuracy: 0.7620\n",
            "Epoch 97/100\n",
            "20/20 [==============================] - 8s 405ms/step - loss: 6.3544e-04 - accuracy: 1.0000 - val_loss: 1.5415 - val_accuracy: 0.7590\n",
            "Epoch 98/100\n",
            "20/20 [==============================] - 8s 407ms/step - loss: 0.0912 - accuracy: 0.9834 - val_loss: 0.8723 - val_accuracy: 0.6970\n",
            "Epoch 99/100\n",
            "20/20 [==============================] - 8s 409ms/step - loss: 0.0827 - accuracy: 0.9724 - val_loss: 1.2971 - val_accuracy: 0.7460\n",
            "Epoch 100/100\n",
            "20/20 [==============================] - 8s 406ms/step - loss: 0.0019 - accuracy: 1.0000 - val_loss: 1.4749 - val_accuracy: 0.7500\n"
          ],
          "name": "stdout"
        }
      ]
    },
    {
      "cell_type": "code",
      "metadata": {
        "id": "LZQhMsNXEhzU"
      },
      "source": [
        "acc = history.history['accuracy']\n",
        "val_acc = history.history['val_accuracy']\n",
        "\n",
        "loss = history.history['loss']\n",
        "val_loss = history.history['val_loss']\n",
        "\n",
        "epochs_range = range(EPOCHS)"
      ],
      "execution_count": 11,
      "outputs": []
    },
    {
      "cell_type": "markdown",
      "metadata": {
        "id": "6Gn-9NxlEhzU"
      },
      "source": [
        "# visualizing results of the training"
      ]
    },
    {
      "cell_type": "code",
      "metadata": {
        "id": "uRtaOM13EhzV",
        "colab": {
          "base_uri": "https://localhost:8080/",
          "height": 562
        },
        "outputId": "baf79d33-58bf-462d-a340-f5b4dec7d149"
      },
      "source": [
        "acc = history.history['accuracy']\n",
        "val_acc = history.history['val_accuracy']\n",
        "loss = history.history['loss']\n",
        "val_loss = history.history['val_loss']\n",
        "epochs = range(EPOCHS)\n",
        "\n",
        "plt.plot(epochs, acc, 'bo', label = 'training acc')\n",
        "plt.plot(epochs, val_acc, label='Validation Accuracy')\n",
        "plt.title('training accuracy')\n",
        "plt.legend()\n",
        "plt.figure()\n",
        "plt.plot(epochs, loss, 'bo', label = 'training loss')\n",
        "plt.plot(epochs, val_loss, label='Validation Loss')\n",
        "plt.title('training loss')\n",
        "plt.legend()\n",
        "\n",
        "plt.show"
      ],
      "execution_count": 12,
      "outputs": [
        {
          "output_type": "execute_result",
          "data": {
            "text/plain": [
              "<function matplotlib.pyplot.show>"
            ]
          },
          "metadata": {
            "tags": []
          },
          "execution_count": 12
        },
        {
          "output_type": "display_data",
          "data": {
            "image/png": "[encoded data removed]",
            "text/plain": [
              "<Figure size 432x288 with 1 Axes>"
            ]
          },
          "metadata": {
            "tags": [],
            "needs_background": "light"
          }
        },
        {
          "output_type": "display_data",
          "data": {
            "image/png": "[encoded data removed]",
            "text/plain": [
              "<Figure size 432x288 with 1 Axes>"
            ]
          },
          "metadata": {
            "tags": [],
            "needs_background": "light"
          }
        }
      ]
    }
  ]
}